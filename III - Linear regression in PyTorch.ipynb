{
 "cells": [
  {
   "cell_type": "markdown",
   "metadata": {},
   "source": [
    "# Linear regression"
   ]
  },
  {
   "cell_type": "code",
   "execution_count": 85,
   "metadata": {},
   "outputs": [],
   "source": [
    "import numpy as np\n",
    "import torch\n",
    "import torch.nn as nn\n",
    "from torch.autograd import Variable\n",
    "import matplotlib.pyplot as plt"
   ]
  },
  {
   "cell_type": "markdown",
   "metadata": {},
   "source": [
    "### Building a toy dataset"
   ]
  },
  {
   "cell_type": "code",
   "execution_count": 86,
   "metadata": {},
   "outputs": [
    {
     "data": {
      "text/plain": [
       "[0, 1, 2, 3, 4, 5, 6, 7, 8, 9, 10]"
      ]
     },
     "execution_count": 86,
     "metadata": {},
     "output_type": "execute_result"
    }
   ],
   "source": [
    "x_values = [i for i in range(11)]\n",
    "x_values"
   ]
  },
  {
   "cell_type": "code",
   "execution_count": 87,
   "metadata": {},
   "outputs": [],
   "source": [
    "# Convert to numpy\n",
    "x_train = np.array(x_values, dtype=np.float32)"
   ]
  },
  {
   "cell_type": "code",
   "execution_count": 88,
   "metadata": {},
   "outputs": [
    {
     "data": {
      "text/plain": [
       "(11,)"
      ]
     },
     "execution_count": 88,
     "metadata": {},
     "output_type": "execute_result"
    }
   ],
   "source": [
    "x_train.shape"
   ]
  },
  {
   "cell_type": "code",
   "execution_count": 89,
   "metadata": {},
   "outputs": [
    {
     "data": {
      "text/plain": [
       "(11, 1)"
      ]
     },
     "execution_count": 89,
     "metadata": {},
     "output_type": "execute_result"
    }
   ],
   "source": [
    "# Important: 2D is Required\n",
    "x_train = x_train.reshape(-1, 1)\n",
    "x_train.shape"
   ]
  },
  {
   "cell_type": "markdown",
   "metadata": {},
   "source": [
    "y = 2x + 1"
   ]
  },
  {
   "cell_type": "code",
   "execution_count": 90,
   "metadata": {},
   "outputs": [
    {
     "data": {
      "text/plain": [
       "[1, 3, 5, 7, 9, 11, 13, 15, 17, 19, 21]"
      ]
     },
     "execution_count": 90,
     "metadata": {},
     "output_type": "execute_result"
    }
   ],
   "source": [
    "y_values = [2*i + 1 for i in x_values]\n",
    "y_values"
   ]
  },
  {
   "cell_type": "code",
   "execution_count": 91,
   "metadata": {},
   "outputs": [
    {
     "data": {
      "text/plain": [
       "array([ 1.,  3.,  5.,  7.,  9., 11., 13., 15., 17., 19., 21.],\n",
       "      dtype=float32)"
      ]
     },
     "execution_count": 91,
     "metadata": {},
     "output_type": "execute_result"
    }
   ],
   "source": [
    "y_train = np.array(y_values, dtype=np.float32)\n",
    "y_train"
   ]
  },
  {
   "cell_type": "code",
   "execution_count": 92,
   "metadata": {},
   "outputs": [
    {
     "data": {
      "text/plain": [
       "(11, 1)"
      ]
     },
     "execution_count": 92,
     "metadata": {},
     "output_type": "execute_result"
    }
   ],
   "source": [
    "y_train = y_train.reshape(-1, 1)\n",
    "y_train.shape"
   ]
  },
  {
   "cell_type": "markdown",
   "metadata": {},
   "source": [
    "## Building Model"
   ]
  },
  {
   "cell_type": "markdown",
   "metadata": {},
   "source": [
    "1. Linear model\n",
    " - True equation: y = 2x + 1\n",
    "2. Forward\n",
    " - Example:\n",
    "        - Input x = 1\n",
    "        - Output $\\hat{y}$ = 2"
   ]
  },
  {
   "cell_type": "code",
   "execution_count": 93,
   "metadata": {},
   "outputs": [],
   "source": [
    "# Create a class\n",
    "class LinearRegressionModel(nn.Module):\n",
    "    def __init__(self, input_size, output_size):\n",
    "        super(LinearRegressionModel, self).__init__()\n",
    "        self.linear = nn.Linear(input_dim, output_dim)\n",
    "    def forward(self, x):\n",
    "        out = self.linear(x)\n",
    "        return out"
   ]
  },
  {
   "cell_type": "markdown",
   "metadata": {},
   "source": [
    "Instantiate model class\n",
    "    - Input: [0, 1, 2, 3, 4, 5, 6, 7, 8, 9, 10];\n",
    "    - Desired Output: [ 1.,  3.,  5.,  7.,  9., 11., 13., 15., 17., 19., 21.]"
   ]
  },
  {
   "cell_type": "code",
   "execution_count": 94,
   "metadata": {},
   "outputs": [],
   "source": [
    "input_dim = 1\n",
    "output_dim = 1\n",
    "\n",
    "model = LinearRegressionModel(input_dim, output_dim)"
   ]
  },
  {
   "cell_type": "code",
   "execution_count": 95,
   "metadata": {},
   "outputs": [],
   "source": [
    "criterion = nn.MSELoss()\n",
    "learning_rate = 0.01\n",
    "optimizer = torch.optim.SGD(model.parameters(), lr=learning_rate)"
   ]
  },
  {
   "cell_type": "markdown",
   "metadata": {},
   "source": [
    "## Train the network"
   ]
  },
  {
   "cell_type": "code",
   "execution_count": 96,
   "metadata": {},
   "outputs": [
    {
     "name": "stdout",
     "output_type": "stream",
     "text": [
      "Epoch: 0, loss: 151.26153564453125\n",
      "Epoch: 1, loss: 12.543886184692383\n",
      "Epoch: 2, loss: 1.2268285751342773\n",
      "Epoch: 3, loss: 0.30145785212516785\n",
      "Epoch: 4, loss: 0.2237296998500824\n",
      "Epoch: 5, loss: 0.21516607701778412\n",
      "Epoch: 6, loss: 0.2122683823108673\n",
      "Epoch: 7, loss: 0.20985785126686096\n",
      "Epoch: 8, loss: 0.2075110524892807\n",
      "Epoch: 9, loss: 0.205193430185318\n",
      "Epoch: 10, loss: 0.20290207862854004\n",
      "Epoch: 11, loss: 0.20063625276088715\n",
      "Epoch: 12, loss: 0.19839586317539215\n",
      "Epoch: 13, loss: 0.19618040323257446\n",
      "Epoch: 14, loss: 0.19398970901966095\n",
      "Epoch: 15, loss: 0.19182337820529938\n",
      "Epoch: 16, loss: 0.1896812468767166\n",
      "Epoch: 17, loss: 0.1875631958246231\n",
      "Epoch: 18, loss: 0.18546876311302185\n",
      "Epoch: 19, loss: 0.18339751660823822\n",
      "Epoch: 20, loss: 0.18134963512420654\n",
      "Epoch: 21, loss: 0.17932458221912384\n",
      "Epoch: 22, loss: 0.1773221343755722\n",
      "Epoch: 23, loss: 0.1753418892621994\n",
      "Epoch: 24, loss: 0.1733839511871338\n",
      "Epoch: 25, loss: 0.17144781351089478\n",
      "Epoch: 26, loss: 0.16953322291374207\n",
      "Epoch: 27, loss: 0.1676400750875473\n",
      "Epoch: 28, loss: 0.1657681167125702\n",
      "Epoch: 29, loss: 0.1639169156551361\n",
      "Epoch: 30, loss: 0.16208642721176147\n",
      "Epoch: 31, loss: 0.1602766066789627\n",
      "Epoch: 32, loss: 0.15848678350448608\n",
      "Epoch: 33, loss: 0.15671691298484802\n",
      "Epoch: 34, loss: 0.15496692061424255\n",
      "Epoch: 35, loss: 0.15323632955551147\n",
      "Epoch: 36, loss: 0.15152522921562195\n",
      "Epoch: 37, loss: 0.14983323216438293\n",
      "Epoch: 38, loss: 0.14816007018089294\n",
      "Epoch: 39, loss: 0.14650551974773407\n",
      "Epoch: 40, loss: 0.1448695808649063\n",
      "Epoch: 41, loss: 0.14325179159641266\n",
      "Epoch: 42, loss: 0.14165210723876953\n",
      "Epoch: 43, loss: 0.14007039368152618\n",
      "Epoch: 44, loss: 0.13850612938404083\n",
      "Epoch: 45, loss: 0.13695953786373138\n",
      "Epoch: 46, loss: 0.13543011248111725\n",
      "Epoch: 47, loss: 0.13391776382923126\n",
      "Epoch: 48, loss: 0.1324222981929779\n",
      "Epoch: 49, loss: 0.13094358146190643\n",
      "Epoch: 50, loss: 0.12948136031627655\n",
      "Epoch: 51, loss: 0.12803547084331512\n",
      "Epoch: 52, loss: 0.12660567462444305\n",
      "Epoch: 53, loss: 0.12519191205501556\n",
      "Epoch: 54, loss: 0.12379391491413116\n",
      "Epoch: 55, loss: 0.1224115788936615\n",
      "Epoch: 56, loss: 0.12104467302560806\n",
      "Epoch: 57, loss: 0.11969294399023056\n",
      "Epoch: 58, loss: 0.11835635453462601\n",
      "Epoch: 59, loss: 0.11703462153673172\n",
      "Epoch: 60, loss: 0.11572765558958054\n",
      "Epoch: 61, loss: 0.11443544179201126\n",
      "Epoch: 62, loss: 0.11315753310918808\n",
      "Epoch: 63, loss: 0.1118939220905304\n",
      "Epoch: 64, loss: 0.11064441502094269\n",
      "Epoch: 65, loss: 0.10940895229578018\n",
      "Epoch: 66, loss: 0.10818710178136826\n",
      "Epoch: 67, loss: 0.10697903484106064\n",
      "Epoch: 68, loss: 0.10578438639640808\n",
      "Epoch: 69, loss: 0.10460305213928223\n",
      "Epoch: 70, loss: 0.1034349724650383\n",
      "Epoch: 71, loss: 0.10227994620800018\n",
      "Epoch: 72, loss: 0.10113780200481415\n",
      "Epoch: 73, loss: 0.10000841319561005\n",
      "Epoch: 74, loss: 0.0988917127251625\n",
      "Epoch: 75, loss: 0.09778738021850586\n",
      "Epoch: 76, loss: 0.09669539332389832\n",
      "Epoch: 77, loss: 0.0956156849861145\n",
      "Epoch: 78, loss: 0.09454784542322159\n",
      "Epoch: 79, loss: 0.09349207580089569\n",
      "Epoch: 80, loss: 0.09244806319475174\n",
      "Epoch: 81, loss: 0.09141567349433899\n",
      "Epoch: 82, loss: 0.09039481729269028\n",
      "Epoch: 83, loss: 0.08938542753458023\n",
      "Epoch: 84, loss: 0.08838734775781631\n",
      "Epoch: 85, loss: 0.08740027993917465\n",
      "Epoch: 86, loss: 0.08642430603504181\n",
      "Epoch: 87, loss: 0.08545919507741928\n",
      "Epoch: 88, loss: 0.08450490236282349\n",
      "Epoch: 89, loss: 0.0835612490773201\n",
      "Epoch: 90, loss: 0.08262811601161957\n",
      "Epoch: 91, loss: 0.0817054733633995\n",
      "Epoch: 92, loss: 0.08079302310943604\n",
      "Epoch: 93, loss: 0.07989088445901871\n",
      "Epoch: 94, loss: 0.07899869233369827\n",
      "Epoch: 95, loss: 0.07811655849218369\n",
      "Epoch: 96, loss: 0.07724426686763763\n",
      "Epoch: 97, loss: 0.0763816386461258\n",
      "Epoch: 98, loss: 0.07552871108055115\n",
      "Epoch: 99, loss: 0.07468530535697937\n"
     ]
    }
   ],
   "source": [
    "epochs = 100\n",
    "\n",
    "for epoch in range(epochs):\n",
    "    epochs += 1\n",
    "    \n",
    "    # Convert numpy array to torch Variable\n",
    "    inputs = Variable(torch.from_numpy(x_train))\n",
    "    labels = Variable(torch.from_numpy(y_train))\n",
    "    \n",
    "    # Clear gradients w.r.t parameters\n",
    "    optimizer.zero_grad()\n",
    "    \n",
    "    # Forward to get outputs\n",
    "    outputs = model(inputs)\n",
    "    \n",
    "    # Calculate Loss\n",
    "    loss = criterion(outputs, labels)\n",
    "    \n",
    "    # Getting gradients w.r.t parameters\n",
    "    loss.backward()\n",
    "    \n",
    "    # Upadting parameters\n",
    "    optimizer.step()\n",
    "    \n",
    "    print(\"Epoch: {}, loss: {}\".format(epoch, loss.item()))"
   ]
  },
  {
   "cell_type": "markdown",
   "metadata": {},
   "source": [
    "## Compare data"
   ]
  },
  {
   "cell_type": "code",
   "execution_count": 97,
   "metadata": {},
   "outputs": [
    {
     "data": {
      "text/plain": [
       "array([[ 0.49163243],\n",
       "       [ 2.564842  ],\n",
       "       [ 4.6380515 ],\n",
       "       [ 6.711261  ],\n",
       "       [ 8.784471  ],\n",
       "       [10.85768   ],\n",
       "       [12.930889  ],\n",
       "       [15.004099  ],\n",
       "       [17.077309  ],\n",
       "       [19.150518  ],\n",
       "       [21.223728  ]], dtype=float32)"
      ]
     },
     "execution_count": 97,
     "metadata": {},
     "output_type": "execute_result"
    }
   ],
   "source": [
    "# Predicted\n",
    "predicted = model(Variable(torch.from_numpy(x_train))).data.numpy()\n",
    "predicted"
   ]
  },
  {
   "cell_type": "code",
   "execution_count": 98,
   "metadata": {},
   "outputs": [
    {
     "data": {
      "text/plain": [
       "array([[ 1.],\n",
       "       [ 3.],\n",
       "       [ 5.],\n",
       "       [ 7.],\n",
       "       [ 9.],\n",
       "       [11.],\n",
       "       [13.],\n",
       "       [15.],\n",
       "       [17.],\n",
       "       [19.],\n",
       "       [21.]], dtype=float32)"
      ]
     },
     "execution_count": 98,
     "metadata": {},
     "output_type": "execute_result"
    }
   ],
   "source": [
    "# y = 2x + 1\n",
    "y_train"
   ]
  },
  {
   "cell_type": "code",
   "execution_count": 102,
   "metadata": {},
   "outputs": [
    {
     "data": {
      "image/png": "[encoded data removed]",
      "text/plain": [
       "<Figure size 432x288 with 1 Axes>"
      ]
     },
     "metadata": {},
     "output_type": "display_data"
    }
   ],
   "source": [
    "# Clear figure\n",
    "plt.clf()\n",
    "\n",
    "# Get Predictions\n",
    "predicted = model(Variable(torch.from_numpy(x_train))).data.numpy()\n",
    "\n",
    "# Plot true data\n",
    "plt.plot(x_train, y_train, 'go', label=\"True data\", alpha=0.5)\n",
    "\n",
    "# Plot predictions\n",
    "plt.plot(x_train, predicted, '--', label=\"Predictions\", alpha=0.5)\n",
    "\n",
    "# Legend and plots\n",
    "plt.legend(loc=\"best\")\n",
    "plt.show()"
   ]
  },
  {
   "cell_type": "markdown",
   "metadata": {},
   "source": [
    "## Save model"
   ]
  },
  {
   "cell_type": "code",
   "execution_count": 103,
   "metadata": {},
   "outputs": [],
   "source": [
    "save_model = False\n",
    "\n",
    "if save_model is True:\n",
    "    # Saves\n",
    "    # Alpha & Beta\n",
    "    torch.save(model.state_dict(), 'awesome_model.pk1')"
   ]
  },
  {
   "cell_type": "code",
   "execution_count": 105,
   "metadata": {},
   "outputs": [],
   "source": [
    "## Load model\n",
    "load_model = False\n",
    "if load_model is True:\n",
    "    model.load_state_dict(torch.load('awesome_model.pk1'))"
   ]
  },
  {
   "cell_type": "markdown",
   "metadata": {},
   "source": [
    "# Building a Linear Regression model with PyTorch (GPU)\n",
    "\n",
    "CPU Summary = The proccess from above"
   ]
  },
  {
   "cell_type": "markdown",
   "metadata": {},
   "source": [
    "** GPU: 2 Things must be on the GPU **\n",
    "- Model\n",
    "- Variables"
   ]
  },
  {
   "cell_type": "code",
   "execution_count": 108,
   "metadata": {},
   "outputs": [
    {
     "name": "stdout",
     "output_type": "stream",
     "text": [
      "Epoch: 0, loss: 67.61626434326172\n",
      "Epoch: 1, loss: 5.5734148025512695\n",
      "Epoch: 2, loss: 0.5121253132820129\n",
      "Epoch: 3, loss: 0.09865007549524307\n",
      "Epoch: 4, loss: 0.06428910791873932\n",
      "Epoch: 5, loss: 0.06085832789540291\n",
      "Epoch: 6, loss: 0.059957485646009445\n",
      "Epoch: 7, loss: 0.059269871562719345\n",
      "Epoch: 8, loss: 0.05860653892159462\n",
      "Epoch: 9, loss: 0.05795199051499367\n",
      "Epoch: 10, loss: 0.05730482190847397\n",
      "Epoch: 11, loss: 0.05666492506861687\n",
      "Epoch: 12, loss: 0.05603215470910072\n",
      "Epoch: 13, loss: 0.05540647357702255\n",
      "Epoch: 14, loss: 0.054787732660770416\n",
      "Epoch: 15, loss: 0.054175931960344315\n",
      "Epoch: 16, loss: 0.05357092618942261\n",
      "Epoch: 17, loss: 0.052972689270973206\n",
      "Epoch: 18, loss: 0.05238116905093193\n",
      "Epoch: 19, loss: 0.05179627239704132\n",
      "Epoch: 20, loss: 0.05121784657239914\n",
      "Epoch: 21, loss: 0.05064592510461807\n",
      "Epoch: 22, loss: 0.05008035525679588\n",
      "Epoch: 23, loss: 0.04952109232544899\n",
      "Epoch: 24, loss: 0.04896808788180351\n",
      "Epoch: 25, loss: 0.04842129722237587\n",
      "Epoch: 26, loss: 0.04788055270910263\n",
      "Epoch: 27, loss: 0.04734591394662857\n",
      "Epoch: 28, loss: 0.046817176043987274\n",
      "Epoch: 29, loss: 0.046294376254081726\n",
      "Epoch: 30, loss: 0.04577745869755745\n",
      "Epoch: 31, loss: 0.04526621103286743\n",
      "Epoch: 32, loss: 0.044760748744010925\n",
      "Epoch: 33, loss: 0.04426093026995659\n",
      "Epoch: 34, loss: 0.04376669600605965\n",
      "Epoch: 35, loss: 0.04327792674303055\n",
      "Epoch: 36, loss: 0.042794667184352875\n",
      "Epoch: 37, loss: 0.04231679439544678\n",
      "Epoch: 38, loss: 0.041844192892313004\n",
      "Epoch: 39, loss: 0.0413769856095314\n",
      "Epoch: 40, loss: 0.040914908051490784\n",
      "Epoch: 41, loss: 0.04045802354812622\n",
      "Epoch: 42, loss: 0.040006257593631744\n",
      "Epoch: 43, loss: 0.03955952078104019\n",
      "Epoch: 44, loss: 0.039117708802223206\n",
      "Epoch: 45, loss: 0.038680922240018845\n",
      "Epoch: 46, loss: 0.03824899345636368\n",
      "Epoch: 47, loss: 0.03782183304429054\n",
      "Epoch: 48, loss: 0.037399474531412125\n",
      "Epoch: 49, loss: 0.03698185831308365\n",
      "Epoch: 50, loss: 0.03656890615820885\n",
      "Epoch: 51, loss: 0.03616051748394966\n",
      "Epoch: 52, loss: 0.03575674444437027\n",
      "Epoch: 53, loss: 0.03535746783018112\n",
      "Epoch: 54, loss: 0.03496260941028595\n",
      "Epoch: 55, loss: 0.034572191536426544\n",
      "Epoch: 56, loss: 0.034186117351055145\n",
      "Epoch: 57, loss: 0.03380437567830086\n",
      "Epoch: 58, loss: 0.033426884561777115\n",
      "Epoch: 59, loss: 0.03305359557271004\n",
      "Epoch: 60, loss: 0.032684508711099625\n",
      "Epoch: 61, loss: 0.032319508492946625\n",
      "Epoch: 62, loss: 0.03195856139063835\n",
      "Epoch: 63, loss: 0.031601693481206894\n",
      "Epoch: 64, loss: 0.031248819082975388\n",
      "Epoch: 65, loss: 0.030899925157427788\n",
      "Epoch: 66, loss: 0.030554814264178276\n",
      "Epoch: 67, loss: 0.030213613063097\n",
      "Epoch: 68, loss: 0.02987624704837799\n",
      "Epoch: 69, loss: 0.029542623087763786\n",
      "Epoch: 70, loss: 0.0292127076536417\n",
      "Epoch: 71, loss: 0.028886502608656883\n",
      "Epoch: 72, loss: 0.028563957661390305\n",
      "Epoch: 73, loss: 0.028244949877262115\n",
      "Epoch: 74, loss: 0.02792954444885254\n",
      "Epoch: 75, loss: 0.027617692947387695\n",
      "Epoch: 76, loss: 0.027309244498610497\n",
      "Epoch: 77, loss: 0.027004340663552284\n",
      "Epoch: 78, loss: 0.0267027635127306\n",
      "Epoch: 79, loss: 0.02640453353524208\n",
      "Epoch: 80, loss: 0.026109682396054268\n",
      "Epoch: 81, loss: 0.02581816352903843\n",
      "Epoch: 82, loss: 0.025529811158776283\n",
      "Epoch: 83, loss: 0.025244735181331635\n",
      "Epoch: 84, loss: 0.024962805211544037\n",
      "Epoch: 85, loss: 0.024684108793735504\n",
      "Epoch: 86, loss: 0.024408431723713875\n",
      "Epoch: 87, loss: 0.024135848507285118\n",
      "Epoch: 88, loss: 0.023866398259997368\n",
      "Epoch: 89, loss: 0.023599835112690926\n",
      "Epoch: 90, loss: 0.023336302489042282\n",
      "Epoch: 91, loss: 0.023075738921761513\n",
      "Epoch: 92, loss: 0.02281799353659153\n",
      "Epoch: 93, loss: 0.022563202306628227\n",
      "Epoch: 94, loss: 0.022311225533485413\n",
      "Epoch: 95, loss: 0.022062094882130623\n",
      "Epoch: 96, loss: 0.021815743297338486\n",
      "Epoch: 97, loss: 0.02157214842736721\n",
      "Epoch: 98, loss: 0.021331222727894783\n",
      "Epoch: 99, loss: 0.021093031391501427\n"
     ]
    }
   ],
   "source": [
    "##\n",
    "## Same\n",
    "##\n",
    "\n",
    "class LinearRegressionModel(nn.Module):\n",
    "    def __init__(self, input_size, output_size):\n",
    "        super(LinearRegressionModel, self).__init__()\n",
    "        self.linear = nn.Linear(input_dim, output_dim)\n",
    "    def forward(self, x):\n",
    "        out = self.linear(x)\n",
    "        return out\n",
    "\n",
    "    input_dim = 1\n",
    "output_dim = 1\n",
    "\n",
    "model = LinearRegressionModel(input_dim, output_dim)\n",
    "\n",
    "##\n",
    "## GPU\n",
    "##\n",
    "if torch.cuda.is_available():\n",
    "    model.cuda()\n",
    "    \n",
    "##\n",
    "## Same\n",
    "##\n",
    "criterion = nn.MSELoss()\n",
    "learning_rate = 0.01\n",
    "optimizer = torch.optim.SGD(model.parameters(), lr=learning_rate)\n",
    "\n",
    "epochs = 100\n",
    "\n",
    "for epoch in range(epochs):\n",
    "    epochs += 1\n",
    "    \n",
    "    ##\n",
    "    ## GPU\n",
    "    ##\n",
    "    \n",
    "    if torch.cuda.is_available():\n",
    "        inputs = Variable(torch.from_numpy(x_train).cuda())\n",
    "        labels = Variable(torch.from_numpy(y_train).cuda())\n",
    "    else:\n",
    "        inputs = Variable(torch.from_numpy(x_train))\n",
    "        labels = Variable(torch.from_numpy(y_train))\n",
    "\n",
    "    ##\n",
    "    ## Same\n",
    "    ##\n",
    "    optimizer.zero_grad()\n",
    "    \n",
    "    outputs = model(inputs)\n",
    "    \n",
    "    loss = criterion(outputs, labels)\n",
    "    \n",
    "    loss.backward()\n",
    "    \n",
    "    optimizer.step()\n",
    "    \n",
    "    print(\"Epoch: {}, loss: {}\".format(epoch, loss.item()))"
   ]
  },
  {
   "cell_type": "code",
   "execution_count": null,
   "metadata": {},
   "outputs": [],
   "source": []
  }
 ],
 "metadata": {
  "kernelspec": {
   "display_name": "Python 3",
   "language": "python",
   "name": "python3"
  },
  "language_info": {
   "codemirror_mode": {
    "name": "ipython",
    "version": 3
   },
   "file_extension": ".py",
   "mimetype": "text/x-python",
   "name": "python",
   "nbconvert_exporter": "python",
   "pygments_lexer": "ipython3",
   "version": "3.6.5"
  }
 },
 "nbformat": 4,
 "nbformat_minor": 2
}
